{
 "cells": [
  {
   "cell_type": "code",
   "execution_count": 80,
   "id": "00d8b3e8",
   "metadata": {},
   "outputs": [],
   "source": [
    "import requests\n",
    "from bs4 import BeautifulSoup\n",
    "from requests import api\n",
    "from requests.api import head\n",
    "import csv\n",
    "import pandas as pd\n",
    "import numpy as np\n",
    "\n",
    "\n",
    "url = 'https://www.crunchbase.com/organization/easme'\n",
    "headers = {\"User-Agent\": \"Mozilla/5.0 (Macintosh; Intel Mac OS X 10.14; rv:66.0) Gecko/20100101 Firefox/66.0\", \"Accept\": \"text/html,application/xhtml+xml,application/xml;q=0.9,*/*;q=0.8\", \"Accept-Language\": \"en-US,en;q=0.5\", \"Accept-Encoding\": \"gzip, deflate\", \"DNT\": \"1\", \"Connection\": \"close\", \"Upgrade-Insecure-Requests\": \"1\"}\n",
    "\n",
    "response = requests.get(url, headers=headers)\n",
    "html_content = response.content\n",
    "soup = BeautifulSoup(html_content, 'html.parser')\n",
    "\n",
    "soup1 = soup.find('div', class_= 'section-content')\n",
    "soup2 = soup.find_all('anchored-values', class_='ng-star-inserted')\n",
    "soup3 = soup.find('timeline-card', class_='ng-star-inserted')\n",
    "soup4 = soup.find('div', class_='mat-tab-links')\n",
    "\n",
    "# <--------------------------------------** Invesment **------------------------------------------------------>"
   ]
  },
  {
   "cell_type": "code",
   "execution_count": 81,
   "id": "1fb45af7",
   "metadata": {},
   "outputs": [
    {
     "data": {
      "text/html": [
       "<div>\n",
       "<style scoped>\n",
       "    .dataframe tbody tr th:only-of-type {\n",
       "        vertical-align: middle;\n",
       "    }\n",
       "\n",
       "    .dataframe tbody tr th {\n",
       "        vertical-align: top;\n",
       "    }\n",
       "\n",
       "    .dataframe thead th {\n",
       "        text-align: right;\n",
       "    }\n",
       "</style>\n",
       "<table border=\"1\" class=\"dataframe\">\n",
       "  <thead>\n",
       "    <tr style=\"text-align: right;\">\n",
       "      <th></th>\n",
       "      <th>About</th>\n",
       "    </tr>\n",
       "  </thead>\n",
       "  <tbody>\n",
       "    <tr>\n",
       "      <th>0</th>\n",
       "      <td>The Executive Agency for Small and Medium-size...</td>\n",
       "    </tr>\n",
       "  </tbody>\n",
       "</table>\n",
       "</div>"
      ],
      "text/plain": [
       "                                               About\n",
       "0  The Executive Agency for Small and Medium-size..."
      ]
     },
     "execution_count": 81,
     "metadata": {},
     "output_type": "execute_result"
    }
   ],
   "source": [
    "ab_about = []\n",
    "for i in soup1:\n",
    "    about = i.find_next('span', class_=\"description\")\n",
    "    if about != []:\n",
    "        p1 = about.text\n",
    "        ab_about.append(p1)\n",
    "        continue                        #done\n",
    "\n",
    "about_list1 = ab_about[1:2]\n",
    "\n",
    "\n",
    "# orgnization_list1.pop(10)\n",
    "# orgnization_list1\n",
    "\n",
    "df_about = pd.DataFrame(about_list1, columns = [\"About\"])\n",
    "df_about.head()"
   ]
  },
  {
   "cell_type": "code",
   "execution_count": null,
   "id": "6d3d662e",
   "metadata": {},
   "outputs": [],
   "source": [
    "\n"
   ]
  },
  {
   "cell_type": "code",
   "execution_count": 82,
   "id": "40db307d",
   "metadata": {},
   "outputs": [
    {
     "data": {
      "text/html": [
       "<div>\n",
       "<style scoped>\n",
       "    .dataframe tbody tr th:only-of-type {\n",
       "        vertical-align: middle;\n",
       "    }\n",
       "\n",
       "    .dataframe tbody tr th {\n",
       "        vertical-align: top;\n",
       "    }\n",
       "\n",
       "    .dataframe thead th {\n",
       "        text-align: right;\n",
       "    }\n",
       "</style>\n",
       "<table border=\"1\" class=\"dataframe\">\n",
       "  <thead>\n",
       "    <tr style=\"text-align: right;\">\n",
       "      <th></th>\n",
       "      <th>Location</th>\n",
       "    </tr>\n",
       "  </thead>\n",
       "  <tbody>\n",
       "    <tr>\n",
       "      <th>0</th>\n",
       "      <td>Brussels, Brussels Hoofdstedelijk Gewest, Bel...</td>\n",
       "    </tr>\n",
       "  </tbody>\n",
       "</table>\n",
       "</div>"
      ],
      "text/plain": [
       "                                            Location\n",
       "0   Brussels, Brussels Hoofdstedelijk Gewest, Bel..."
      ]
     },
     "execution_count": 82,
     "metadata": {},
     "output_type": "execute_result"
    }
   ],
   "source": [
    "ab_location = []\n",
    "for i in soup1:\n",
    "    location = i.find_next('field-formatter', class_='ng-star-inserted')\n",
    "    if location != None:\n",
    "        p2 = location.text      #done\n",
    "        ab_location.append(p2)\n",
    "        continue\n",
    "\n",
    "location_list1 = ab_location[1:2]\n",
    "\n",
    "# orgnization_list1.pop(10)\n",
    "# orgnization_list1\n",
    "\n",
    "df_location = pd.DataFrame(location_list1, columns = [\"Location\"])\n",
    "# print(type(df_location))\n",
    "df_location"
   ]
  },
  {
   "cell_type": "code",
   "execution_count": 83,
   "id": "70523205",
   "metadata": {},
   "outputs": [
    {
     "data": {
      "text/html": [
       "<div>\n",
       "<style scoped>\n",
       "    .dataframe tbody tr th:only-of-type {\n",
       "        vertical-align: middle;\n",
       "    }\n",
       "\n",
       "    .dataframe tbody tr th {\n",
       "        vertical-align: top;\n",
       "    }\n",
       "\n",
       "    .dataframe thead th {\n",
       "        text-align: right;\n",
       "    }\n",
       "</style>\n",
       "<table border=\"1\" class=\"dataframe\">\n",
       "  <thead>\n",
       "    <tr style=\"text-align: right;\">\n",
       "      <th></th>\n",
       "      <th>Link</th>\n",
       "    </tr>\n",
       "  </thead>\n",
       "  <tbody>\n",
       "    <tr>\n",
       "      <th>0</th>\n",
       "      <td>ec.europa.eu/easme/en</td>\n",
       "    </tr>\n",
       "  </tbody>\n",
       "</table>\n",
       "</div>"
      ],
      "text/plain": [
       "                      Link\n",
       "0   ec.europa.eu/easme/en "
      ]
     },
     "execution_count": 83,
     "metadata": {},
     "output_type": "execute_result"
    }
   ],
   "source": [
    "ab_link = []\n",
    "for i in soup1:\n",
    "    link = i.find('link-formatter', class_='ng-star-inserted')  \n",
    "    if link != None:\n",
    "        p3 = link.text         # Done\n",
    "        ab_link.append(p3)\n",
    "        continue\n",
    "\n",
    "df_link = pd.DataFrame(ab_link, columns = [\"Link\"])\n",
    "# print(type(df_link))\n",
    "df_link"
   ]
  },
  {
   "cell_type": "code",
   "execution_count": 86,
   "id": "9ba9315c",
   "metadata": {},
   "outputs": [
    {
     "name": "stdout",
     "output_type": "stream",
     "text": [
      "None\n",
      "None\n"
     ]
    },
    {
     "data": {
      "text/html": [
       "<div>\n",
       "<style scoped>\n",
       "    .dataframe tbody tr th:only-of-type {\n",
       "        vertical-align: middle;\n",
       "    }\n",
       "\n",
       "    .dataframe tbody tr th {\n",
       "        vertical-align: top;\n",
       "    }\n",
       "\n",
       "    .dataframe thead th {\n",
       "        text-align: right;\n",
       "    }\n",
       "</style>\n",
       "<table border=\"1\" class=\"dataframe\">\n",
       "  <thead>\n",
       "    <tr style=\"text-align: right;\">\n",
       "      <th></th>\n",
       "      <th>Rank</th>\n",
       "    </tr>\n",
       "  </thead>\n",
       "  <tbody>\n",
       "  </tbody>\n",
       "</table>\n",
       "</div>"
      ],
      "text/plain": [
       "Empty DataFrame\n",
       "Columns: [Rank]\n",
       "Index: []"
      ]
     },
     "execution_count": 86,
     "metadata": {},
     "output_type": "execute_result"
    }
   ],
   "source": [
    "ab_rank = []\n",
    "for i in soup1:\n",
    "    rank = i.find('a', attr = {\"class\":\"component--field-formatter field-type-integer link-accent ng-star-inserted\",\"href\":\"/search/organization.schools/field/organizations/rank_org_school/10\"})\n",
    "    print(rank)\n",
    "#     if rank != None:\n",
    "#         p4 = rank.text \n",
    "#         ab_rank.append(p4)\n",
    "#         continue                                 # done\n",
    "\n",
    "# df_rank = pd.DataFrame(rank, columns = [\"Rank\"])\n",
    "# print(type(df_rank))\n",
    "df_rank"
   ]
  },
  {
   "cell_type": "code",
   "execution_count": 35,
   "id": "47969dae",
   "metadata": {},
   "outputs": [],
   "source": [
    "for j in soup3:\n",
    "    news =j.find('div', class_='activity-details')\n",
    "    print(j.text)      #not done\n",
    "    "
   ]
  },
  {
   "cell_type": "code",
   "execution_count": 72,
   "id": "0306fca6",
   "metadata": {},
   "outputs": [
    {
     "ename": "ValueError",
     "evalue": "cannot reshape array of size 3 into shape (5)",
     "output_type": "error",
     "traceback": [
      "\u001b[1;31m---------------------------------------------------------------------------\u001b[0m",
      "\u001b[1;31mValueError\u001b[0m                                Traceback (most recent call last)",
      "\u001b[1;32m<ipython-input-72-f17c9fba0bf5>\u001b[0m in \u001b[0;36m<module>\u001b[1;34m\u001b[0m\n\u001b[0;32m      8\u001b[0m \u001b[0mlocation_list1\u001b[0m \u001b[1;33m=\u001b[0m \u001b[0msumm\u001b[0m\u001b[1;33m[\u001b[0m\u001b[1;36m0\u001b[0m\u001b[1;33m:\u001b[0m\u001b[1;36m5\u001b[0m\u001b[1;33m]\u001b[0m\u001b[1;33m\u001b[0m\u001b[1;33m\u001b[0m\u001b[0m\n\u001b[0;32m      9\u001b[0m \u001b[1;31m# location_list1\u001b[0m\u001b[1;33m\u001b[0m\u001b[1;33m\u001b[0m\u001b[1;33m\u001b[0m\u001b[0m\n\u001b[1;32m---> 10\u001b[1;33m \u001b[0mdf_financial\u001b[0m \u001b[1;33m=\u001b[0m \u001b[0mpd\u001b[0m\u001b[1;33m.\u001b[0m\u001b[0mDataFrame\u001b[0m\u001b[1;33m(\u001b[0m\u001b[0mnp\u001b[0m\u001b[1;33m.\u001b[0m\u001b[0marray\u001b[0m\u001b[1;33m(\u001b[0m\u001b[0mlocation_list1\u001b[0m\u001b[1;33m)\u001b[0m\u001b[1;33m.\u001b[0m\u001b[0mreshape\u001b[0m\u001b[1;33m(\u001b[0m\u001b[1;33m-\u001b[0m\u001b[1;36m1\u001b[0m\u001b[1;33m,\u001b[0m\u001b[1;36m5\u001b[0m\u001b[1;33m)\u001b[0m\u001b[1;33m,\u001b[0m \u001b[0mcolumns\u001b[0m \u001b[1;33m=\u001b[0m \u001b[1;33m[\u001b[0m\u001b[1;34m\"Founders(alumni)\"\u001b[0m\u001b[1;33m,\u001b[0m \u001b[1;34m\"Investment\"\u001b[0m\u001b[1;33m,\u001b[0m \u001b[1;34m\"Exits\"\u001b[0m\u001b[1;33m,\u001b[0m \u001b[1;34m\"Contact\"\u001b[0m\u001b[1;33m,\u001b[0m \u001b[1;34m\"Employee Porfile\"\u001b[0m\u001b[1;33m]\u001b[0m\u001b[1;33m)\u001b[0m\u001b[1;33m\u001b[0m\u001b[1;33m\u001b[0m\u001b[0m\n\u001b[0m\u001b[0;32m     11\u001b[0m \u001b[0mdf_financial\u001b[0m\u001b[1;33m\u001b[0m\u001b[1;33m\u001b[0m\u001b[0m\n",
      "\u001b[1;31mValueError\u001b[0m: cannot reshape array of size 3 into shape (5)"
     ]
    }
   ],
   "source": [
    "summ = []\n",
    "for j in soup2:\n",
    "    summary = j.find_all_next('span', class_=\"component--field-formatter field-type-integer ng-star-inserted\")\n",
    "    for j in summary:                                     # done\n",
    "        p1 = j.text\n",
    "        summ.append(p1)\n",
    "        continue\n",
    "location_list1 = summ[0:5]\n",
    "# location_list1\n",
    "df_financial = pd.DataFrame(np.array(location_list1).reshape(-1,5), columns = [\"Founders(alumni)\", \"Investment\", \"Exits\", \"Contact\", \"Employee Porfile\"])\n",
    "df_financial"
   ]
  },
  {
   "cell_type": "code",
   "execution_count": 65,
   "id": "7106a7fd",
   "metadata": {},
   "outputs": [
    {
     "data": {
      "text/html": [
       "<div>\n",
       "<style scoped>\n",
       "    .dataframe tbody tr th:only-of-type {\n",
       "        vertical-align: middle;\n",
       "    }\n",
       "\n",
       "    .dataframe tbody tr th {\n",
       "        vertical-align: top;\n",
       "    }\n",
       "\n",
       "    .dataframe thead th {\n",
       "        text-align: right;\n",
       "    }\n",
       "</style>\n",
       "<table border=\"1\" class=\"dataframe\">\n",
       "  <thead>\n",
       "    <tr style=\"text-align: right;\">\n",
       "      <th></th>\n",
       "      <th>Founders(alumni)</th>\n",
       "      <th>Investment</th>\n",
       "      <th>Exits</th>\n",
       "      <th>Contact</th>\n",
       "      <th>Employee Porfile</th>\n",
       "      <th>Rank</th>\n",
       "      <th>Link</th>\n",
       "      <th>Location</th>\n",
       "      <th>About</th>\n",
       "    </tr>\n",
       "  </thead>\n",
       "  <tbody>\n",
       "    <tr>\n",
       "      <th>0</th>\n",
       "      <td>50</td>\n",
       "      <td>3,918</td>\n",
       "      <td>374</td>\n",
       "      <td>110</td>\n",
       "      <td>64</td>\n",
       "      <td>10</td>\n",
       "      <td>www.ycombinator.com</td>\n",
       "      <td>Mountain View, California, United States</td>\n",
       "      <td>Y Combinator is a startup accelerator that inv...</td>\n",
       "    </tr>\n",
       "  </tbody>\n",
       "</table>\n",
       "</div>"
      ],
      "text/plain": [
       "  Founders(alumni) Investment Exits Contact Employee Porfile Rank  \\\n",
       "0               50      3,918   374     110               64   10   \n",
       "\n",
       "                    Link                                   Location  \\\n",
       "0   www.ycombinator.com    Mountain View, California, United States   \n",
       "\n",
       "                                               About  \n",
       "0  Y Combinator is a startup accelerator that inv...  "
      ]
     },
     "execution_count": 65,
     "metadata": {},
     "output_type": "execute_result"
    }
   ],
   "source": [
    "all_data = [df_financial, df_rank, df_link, df_location, df_about]\n",
    "result = pd.concat(all_data, axis=1)\n",
    "result"
   ]
  },
  {
   "cell_type": "code",
   "execution_count": 66,
   "id": "06b9b28a",
   "metadata": {},
   "outputs": [],
   "source": [
    "result.to_csv(\"F:/vs code/tutorials/csv file/ycombinato_.csv\", index=False)"
   ]
  }
 ],
 "metadata": {
  "kernelspec": {
   "display_name": "Python 3",
   "language": "python",
   "name": "python3"
  },
  "language_info": {
   "codemirror_mode": {
    "name": "ipython",
    "version": 3
   },
   "file_extension": ".py",
   "mimetype": "text/x-python",
   "name": "python",
   "nbconvert_exporter": "python",
   "pygments_lexer": "ipython3",
   "version": "3.8.8"
  }
 },
 "nbformat": 4,
 "nbformat_minor": 5
}
