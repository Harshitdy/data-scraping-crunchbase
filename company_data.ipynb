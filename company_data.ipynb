{
 "cells": [
  {
   "cell_type": "code",
   "execution_count": 1,
   "source": [
    "import requests\r\n",
    "from bs4 import BeautifulSoup\r\n",
    "from requests import api\r\n",
    "from requests.api import head\r\n",
    "import csv\r\n",
    "import pandas as pd\r\n",
    "import numpy as np\r\n",
    "\r\n",
    "\r\n",
    "url = 'https://www.crunchbase.com/organization/y-combinator'\r\n",
    "headers = {\"User-Agent\": \"Mozilla/5.0 (Macintosh; Intel Mac OS X 10.14; rv:66.0) Gecko/20100101 Firefox/66.0\", \"Accept\": \"text/html,application/xhtml+xml,application/xml;q=0.9,*/*;q=0.8\", \"Accept-Language\": \"en-US,en;q=0.5\", \"Accept-Encoding\": \"gzip, deflate\", \"DNT\": \"1\", \"Connection\": \"close\", \"Upgrade-Insecure-Requests\": \"1\"}\r\n",
    "\r\n",
    "response = requests.get(url, headers=headers)\r\n",
    "html_content = response.content\r\n",
    "soup = BeautifulSoup(html_content, 'html.parser')\r\n",
    "\r\n",
    "soup1 = soup.find('div', class_= 'section-content')\r\n",
    "soup2 = soup.find_all('anchored-values', class_='ng-star-inserted')\r\n",
    "soup3 = soup.find('timeline-card', class_='ng-star-inserted')\r\n",
    "soup4 = soup.find('div', class_='mat-tab-links')\r\n",
    "\r\n",
    "# <--------------------------------------** Invesment **------------------------------------------------------>"
   ],
   "outputs": [],
   "metadata": {}
  },
  {
   "cell_type": "code",
   "execution_count": 2,
   "source": [
    "ab_about = []\r\n",
    "for i in soup1:\r\n",
    "    about = i.find_next('span', class_=\"description\")\r\n",
    "    if about != []:\r\n",
    "        p1 = about.text\r\n",
    "        ab_about.append(p1)\r\n",
    "        continue                        #done\r\n",
    "\r\n",
    "about_list1 = ab_about[1:2]\r\n",
    "\r\n",
    "\r\n",
    "# orgnization_list1.pop(10)\r\n",
    "# orgnization_list1\r\n",
    "\r\n",
    "df_about = pd.DataFrame(about_list1, columns = [\"About\"])\r\n",
    "df_about.head()"
   ],
   "outputs": [
    {
     "output_type": "execute_result",
     "data": {
      "text/html": [
       "<div>\n",
       "<style scoped>\n",
       "    .dataframe tbody tr th:only-of-type {\n",
       "        vertical-align: middle;\n",
       "    }\n",
       "\n",
       "    .dataframe tbody tr th {\n",
       "        vertical-align: top;\n",
       "    }\n",
       "\n",
       "    .dataframe thead th {\n",
       "        text-align: right;\n",
       "    }\n",
       "</style>\n",
       "<table border=\"1\" class=\"dataframe\">\n",
       "  <thead>\n",
       "    <tr style=\"text-align: right;\">\n",
       "      <th></th>\n",
       "      <th>About</th>\n",
       "    </tr>\n",
       "  </thead>\n",
       "  <tbody>\n",
       "    <tr>\n",
       "      <th>0</th>\n",
       "      <td>Y Combinator is a startup accelerator that inv...</td>\n",
       "    </tr>\n",
       "  </tbody>\n",
       "</table>\n",
       "</div>"
      ],
      "text/plain": [
       "                                               About\n",
       "0  Y Combinator is a startup accelerator that inv..."
      ]
     },
     "metadata": {},
     "execution_count": 2
    }
   ],
   "metadata": {}
  },
  {
   "cell_type": "code",
   "execution_count": null,
   "source": [
    "\r\n"
   ],
   "outputs": [],
   "metadata": {}
  },
  {
   "cell_type": "code",
   "execution_count": 3,
   "source": [
    "ab_location = []\r\n",
    "for i in soup1:\r\n",
    "    location = i.find_next('field-formatter', class_='ng-star-inserted')\r\n",
    "    if location != None:\r\n",
    "        p2 = location.text      #done\r\n",
    "        ab_location.append(p2)\r\n",
    "        continue\r\n",
    "\r\n",
    "location_list1 = ab_location[1:2]\r\n",
    "\r\n",
    "# orgnization_list1.pop(10)\r\n",
    "# orgnization_list1\r\n",
    "\r\n",
    "df_location = pd.DataFrame(location_list1, columns = [\"Location\"])\r\n",
    "# print(type(df_location))\r\n",
    "df_location"
   ],
   "outputs": [
    {
     "output_type": "execute_result",
     "data": {
      "text/html": [
       "<div>\n",
       "<style scoped>\n",
       "    .dataframe tbody tr th:only-of-type {\n",
       "        vertical-align: middle;\n",
       "    }\n",
       "\n",
       "    .dataframe tbody tr th {\n",
       "        vertical-align: top;\n",
       "    }\n",
       "\n",
       "    .dataframe thead th {\n",
       "        text-align: right;\n",
       "    }\n",
       "</style>\n",
       "<table border=\"1\" class=\"dataframe\">\n",
       "  <thead>\n",
       "    <tr style=\"text-align: right;\">\n",
       "      <th></th>\n",
       "      <th>Location</th>\n",
       "    </tr>\n",
       "  </thead>\n",
       "  <tbody>\n",
       "    <tr>\n",
       "      <th>0</th>\n",
       "      <td>Mountain View, California, United States</td>\n",
       "    </tr>\n",
       "  </tbody>\n",
       "</table>\n",
       "</div>"
      ],
      "text/plain": [
       "                                    Location\n",
       "0   Mountain View, California, United States"
      ]
     },
     "metadata": {},
     "execution_count": 3
    }
   ],
   "metadata": {}
  },
  {
   "cell_type": "code",
   "execution_count": 4,
   "source": [
    "ab_link = []\r\n",
    "for i in soup1:\r\n",
    "    link = i.find('link-formatter', class_='ng-star-inserted')  \r\n",
    "    if link != None:\r\n",
    "        p3 = link.text         # Done\r\n",
    "        ab_link.append(p3)\r\n",
    "        continue\r\n",
    "\r\n",
    "df_link = pd.DataFrame(ab_link, columns = [\"Link\"])\r\n",
    "# print(type(df_link))\r\n",
    "df_link"
   ],
   "outputs": [
    {
     "output_type": "execute_result",
     "data": {
      "text/html": [
       "<div>\n",
       "<style scoped>\n",
       "    .dataframe tbody tr th:only-of-type {\n",
       "        vertical-align: middle;\n",
       "    }\n",
       "\n",
       "    .dataframe tbody tr th {\n",
       "        vertical-align: top;\n",
       "    }\n",
       "\n",
       "    .dataframe thead th {\n",
       "        text-align: right;\n",
       "    }\n",
       "</style>\n",
       "<table border=\"1\" class=\"dataframe\">\n",
       "  <thead>\n",
       "    <tr style=\"text-align: right;\">\n",
       "      <th></th>\n",
       "      <th>Link</th>\n",
       "    </tr>\n",
       "  </thead>\n",
       "  <tbody>\n",
       "    <tr>\n",
       "      <th>0</th>\n",
       "      <td>www.ycombinator.com</td>\n",
       "    </tr>\n",
       "  </tbody>\n",
       "</table>\n",
       "</div>"
      ],
      "text/plain": [
       "                    Link\n",
       "0   www.ycombinator.com "
      ]
     },
     "metadata": {},
     "execution_count": 4
    }
   ],
   "metadata": {}
  },
  {
   "cell_type": "code",
   "execution_count": 11,
   "source": [
    "ab_rank = []\r\n",
    "for i in soup1:\r\n",
    "    rank = i.find('a', class_=\"component--field-formatter field-type-integer link-accent ng-star-inserted\")\r\n",
    "    if rank != None:\r\n",
    "        p4 = rank.text \r\n",
    "        ab_rank.append(p4)\r\n",
    "        continue                                 # done\r\n",
    "\r\n",
    "df_rank = pd.DataFrame(rank, columns = [\"Rank\"])\r\n",
    "# print(type(df_rank))\r\n",
    "df_rank"
   ],
   "outputs": [
    {
     "output_type": "execute_result",
     "data": {
      "text/html": [
       "<div>\n",
       "<style scoped>\n",
       "    .dataframe tbody tr th:only-of-type {\n",
       "        vertical-align: middle;\n",
       "    }\n",
       "\n",
       "    .dataframe tbody tr th {\n",
       "        vertical-align: top;\n",
       "    }\n",
       "\n",
       "    .dataframe thead th {\n",
       "        text-align: right;\n",
       "    }\n",
       "</style>\n",
       "<table border=\"1\" class=\"dataframe\">\n",
       "  <thead>\n",
       "    <tr style=\"text-align: right;\">\n",
       "      <th></th>\n",
       "      <th>Rank</th>\n",
       "    </tr>\n",
       "  </thead>\n",
       "  <tbody>\n",
       "    <tr>\n",
       "      <th>0</th>\n",
       "      <td>9</td>\n",
       "    </tr>\n",
       "  </tbody>\n",
       "</table>\n",
       "</div>"
      ],
      "text/plain": [
       "  Rank\n",
       "0    9"
      ]
     },
     "metadata": {},
     "execution_count": 11
    }
   ],
   "metadata": {}
  },
  {
   "cell_type": "code",
   "execution_count": 12,
   "source": [
    "summ = []\r\n",
    "for j in soup2:\r\n",
    "    summary = j.find_all_next('span', class_=\"component--field-formatter field-type-integer ng-star-inserted\")\r\n",
    "    for j in summary:                                     # done\r\n",
    "        p1 = j.text\r\n",
    "        summ.append(p1)\r\n",
    "        continue\r\n",
    "location_list1 = summ[0:5]\r\n",
    "# location_list1\r\n",
    "df_financial = pd.DataFrame(np.array(location_list1).reshape(-1,5), columns = [\"Founders(alumni)\", \"Investment\", \"Exits\", \"Contact\", \"Employee Porfile\"])\r\n",
    "df_financial"
   ],
   "outputs": [
    {
     "output_type": "execute_result",
     "data": {
      "text/html": [
       "<div>\n",
       "<style scoped>\n",
       "    .dataframe tbody tr th:only-of-type {\n",
       "        vertical-align: middle;\n",
       "    }\n",
       "\n",
       "    .dataframe tbody tr th {\n",
       "        vertical-align: top;\n",
       "    }\n",
       "\n",
       "    .dataframe thead th {\n",
       "        text-align: right;\n",
       "    }\n",
       "</style>\n",
       "<table border=\"1\" class=\"dataframe\">\n",
       "  <thead>\n",
       "    <tr style=\"text-align: right;\">\n",
       "      <th></th>\n",
       "      <th>Founders(alumni)</th>\n",
       "      <th>Investment</th>\n",
       "      <th>Exits</th>\n",
       "      <th>Contact</th>\n",
       "      <th>Employee Porfile</th>\n",
       "    </tr>\n",
       "  </thead>\n",
       "  <tbody>\n",
       "    <tr>\n",
       "      <th>0</th>\n",
       "      <td>50</td>\n",
       "      <td>3,936</td>\n",
       "      <td>375</td>\n",
       "      <td>90</td>\n",
       "      <td>64</td>\n",
       "    </tr>\n",
       "  </tbody>\n",
       "</table>\n",
       "</div>"
      ],
      "text/plain": [
       "  Founders(alumni) Investment Exits Contact Employee Porfile\n",
       "0               50      3,936   375      90               64"
      ]
     },
     "metadata": {},
     "execution_count": 12
    }
   ],
   "metadata": {}
  },
  {
   "cell_type": "code",
   "execution_count": 13,
   "source": [
    "all_data = [df_financial, df_rank, df_link, df_location, df_about]\r\n",
    "result = pd.concat(all_data, axis=1)\r\n",
    "result"
   ],
   "outputs": [
    {
     "output_type": "execute_result",
     "data": {
      "text/html": [
       "<div>\n",
       "<style scoped>\n",
       "    .dataframe tbody tr th:only-of-type {\n",
       "        vertical-align: middle;\n",
       "    }\n",
       "\n",
       "    .dataframe tbody tr th {\n",
       "        vertical-align: top;\n",
       "    }\n",
       "\n",
       "    .dataframe thead th {\n",
       "        text-align: right;\n",
       "    }\n",
       "</style>\n",
       "<table border=\"1\" class=\"dataframe\">\n",
       "  <thead>\n",
       "    <tr style=\"text-align: right;\">\n",
       "      <th></th>\n",
       "      <th>Founders(alumni)</th>\n",
       "      <th>Investment</th>\n",
       "      <th>Exits</th>\n",
       "      <th>Contact</th>\n",
       "      <th>Employee Porfile</th>\n",
       "      <th>Rank</th>\n",
       "      <th>Link</th>\n",
       "      <th>Location</th>\n",
       "      <th>About</th>\n",
       "    </tr>\n",
       "  </thead>\n",
       "  <tbody>\n",
       "    <tr>\n",
       "      <th>0</th>\n",
       "      <td>50</td>\n",
       "      <td>3,936</td>\n",
       "      <td>375</td>\n",
       "      <td>90</td>\n",
       "      <td>64</td>\n",
       "      <td>9</td>\n",
       "      <td>www.ycombinator.com</td>\n",
       "      <td>Mountain View, California, United States</td>\n",
       "      <td>Y Combinator is a startup accelerator that inv...</td>\n",
       "    </tr>\n",
       "  </tbody>\n",
       "</table>\n",
       "</div>"
      ],
      "text/plain": [
       "  Founders(alumni) Investment Exits Contact Employee Porfile Rank  \\\n",
       "0               50      3,936   375      90               64    9   \n",
       "\n",
       "                    Link                                   Location  \\\n",
       "0   www.ycombinator.com    Mountain View, California, United States   \n",
       "\n",
       "                                               About  \n",
       "0  Y Combinator is a startup accelerator that inv...  "
      ]
     },
     "metadata": {},
     "execution_count": 13
    }
   ],
   "metadata": {}
  },
  {
   "cell_type": "code",
   "execution_count": 66,
   "source": [
    "result.to_csv(\"F:/vs code/tutorials/csv file/ycombinato_.csv\", index=False)"
   ],
   "outputs": [],
   "metadata": {}
  }
 ],
 "metadata": {
  "kernelspec": {
   "name": "python3",
   "display_name": "Python 3.8.8 64-bit ('base': conda)"
  },
  "language_info": {
   "codemirror_mode": {
    "name": "ipython",
    "version": 3
   },
   "file_extension": ".py",
   "mimetype": "text/x-python",
   "name": "python",
   "nbconvert_exporter": "python",
   "pygments_lexer": "ipython3",
   "version": "3.8.8"
  },
  "interpreter": {
   "hash": "376d059ec0d670c0fc8473acbe36184518cbbee737451fc50d08c2f38fa54bc3"
  }
 },
 "nbformat": 4,
 "nbformat_minor": 5
}